{
 "cells": [
  {
   "cell_type": "code",
   "execution_count": 1,
   "id": "fba35726-d60a-4f0f-b994-a87b277b451d",
   "metadata": {},
   "outputs": [],
   "source": [
    "from pyspark.sql import SparkSession\n",
    "\n",
    "spark = SparkSession.builder \\\n",
    "    .appName(\"Hadoop_Spark_Hive_Integration\") \\\n",
    "    .config(\"spark.sql.catalogImplementation\", \"hive\") \\\n",
    "    .config(\"spark.hadoop.fs.defaultFS\", \"hdfs://namenode:9000\") \\\n",
    "    .config(\"spark.sql.warehouse.dir\", \"hdfs://namenode:9000/user/hive/warehouse\") \\\n",
    "    .config(\"hive.metastore.uris\", \"thrift://hive-metastore:9083\") \\\n",
    "    .enableHiveSupport() \\\n",
    "    .getOrCreate()"
   ]
  },
  {
   "cell_type": "code",
   "execution_count": 2,
   "id": "6d0a4934-d761-495f-8431-318858829a56",
   "metadata": {},
   "outputs": [],
   "source": [
    "df = spark.sql(\"SELECT Date, Open, High, Low, Close, Volume FROM crypto_db.crypto_prices WHERE coin='Bitcoin'\")"
   ]
  },
  {
   "cell_type": "code",
   "execution_count": 3,
   "id": "fc7de1a4-bd9c-4988-af36-1bf8feb965e1",
   "metadata": {},
   "outputs": [],
   "source": [
    "df = df.orderBy(\"Date\")"
   ]
  },
  {
   "cell_type": "code",
   "execution_count": 5,
   "id": "6db5aaae-0781-4495-978f-863178f6deb2",
   "metadata": {},
   "outputs": [],
   "source": [
    "from pyspark.sql import SparkSession\n",
    "from pyspark.sql.functions import col, lag, avg\n",
    "from pyspark.sql.window import Window\n",
    "from pyspark.ml.feature import VectorAssembler\n",
    "from pyspark.ml.classification import RandomForestClassifier\n",
    "from pyspark.ml.evaluation import MulticlassClassificationEvaluator\n"
   ]
  },
  {
   "cell_type": "code",
   "execution_count": 6,
   "id": "c77f7bf8-466c-473d-93bb-026f1ea9fa48",
   "metadata": {},
   "outputs": [],
   "source": [
    "window = Window.orderBy(\"Date\")\n",
    "df = df.withColumn(\"prev_close\", lag(\"Close\",1).over(window))\n",
    "df = df.withColumn(\"label\", (col(\"Close\") > col(\"prev_close\")).cast(\"int\"))\n",
    "df = df.dropna()"
   ]
  },
  {
   "cell_type": "code",
   "execution_count": 7,
   "id": "29cee9bc-b1cb-4530-96a3-be65529c71f8",
   "metadata": {},
   "outputs": [],
   "source": [
    "w7 = Window.orderBy(\"Date\").rowsBetween(-6,0)\n",
    "w30 = Window.orderBy(\"Date\").rowsBetween(-29,0)\n",
    "df = df.withColumn(\"pct_change\", ((col(\"Close\")-col(\"prev_close\"))/col(\"prev_close\"))*100)\n",
    "df = df.withColumn(\"ma7\", avg(\"Close\").over(w7))\n",
    "df = df.withColumn(\"ma30\", avg(\"Close\").over(w30))\n",
    "df = df.dropna()"
   ]
  },
  {
   "cell_type": "code",
   "execution_count": 8,
   "id": "1df94753-b178-4ec9-aeae-c387818b6801",
   "metadata": {},
   "outputs": [],
   "source": [
    "assembler = VectorAssembler(inputCols=[\"Open\",\"High\",\"Low\",\"Volume\",\"pct_change\",\"ma7\",\"ma30\"], outputCol=\"features\")\n",
    "df_vec = assembler.transform(df).select(\"Date\",\"features\",\"label\")"
   ]
  },
  {
   "cell_type": "code",
   "execution_count": 9,
   "id": "9cd65a03-52db-46b7-a605-e1e7dfca8f43",
   "metadata": {},
   "outputs": [],
   "source": [
    "cnt = df_vec.count()\n",
    "train_cnt = int(cnt*0.8)\n",
    "train_df = df_vec.limit(train_cnt)\n",
    "test_df = df_vec.subtract(train_df)"
   ]
  },
  {
   "cell_type": "code",
   "execution_count": 10,
   "id": "e44a53d3-25ed-4924-a2b8-1b4ac35774d7",
   "metadata": {},
   "outputs": [],
   "source": [
    "rf = RandomForestClassifier(featuresCol=\"features\", labelCol=\"label\", numTrees=100, maxDepth=10)\n",
    "model = rf.fit(train_df)\n",
    "pred = model.transform(test_df)"
   ]
  },
  {
   "cell_type": "code",
   "execution_count": 11,
   "id": "8d62184d-63d3-4ea0-867e-dff91e9449df",
   "metadata": {},
   "outputs": [
    {
     "name": "stdout",
     "output_type": "stream",
     "text": [
      "F1 Score: 0.9960886969979328\n"
     ]
    }
   ],
   "source": [
    "eval_f1 = MulticlassClassificationEvaluator(labelCol=\"label\", predictionCol=\"prediction\", metricName=\"f1\")\n",
    "f1_score = eval_f1.evaluate(pred)\n",
    "print(\"F1 Score:\", f1_score)"
   ]
  },
  {
   "cell_type": "code",
   "execution_count": 12,
   "id": "15492a91-28a0-49e7-9c9b-6cde41f3d415",
   "metadata": {},
   "outputs": [],
   "source": [
    "spark.stop()"
   ]
  }
 ],
 "metadata": {
  "kernelspec": {
   "display_name": "Python 3 (ipykernel)",
   "language": "python",
   "name": "python3"
  },
  "language_info": {
   "codemirror_mode": {
    "name": "ipython",
    "version": 3
   },
   "file_extension": ".py",
   "mimetype": "text/x-python",
   "name": "python",
   "nbconvert_exporter": "python",
   "pygments_lexer": "ipython3",
   "version": "3.10.5"
  }
 },
 "nbformat": 4,
 "nbformat_minor": 5
}
