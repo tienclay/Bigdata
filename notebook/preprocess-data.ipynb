{
 "cells": [
  {
   "cell_type": "code",
   "execution_count": 1,
   "id": "8e04c7e6-8b84-46ab-9f0e-d8cc5dcec8f1",
   "metadata": {},
   "outputs": [
    {
     "name": "stdout",
     "output_type": "stream",
     "text": [
      "+---------+\n",
      "|namespace|\n",
      "+---------+\n",
      "|  default|\n",
      "+---------+\n",
      "\n",
      "+---------+----------+-----------+\n",
      "|namespace| tableName|isTemporary|\n",
      "+---------+----------+-----------+\n",
      "|  default|test_table|      false|\n",
      "+---------+----------+-----------+\n",
      "\n"
     ]
    }
   ],
   "source": [
    "from pyspark.sql import SparkSession\n",
    "\n",
    "spark = SparkSession.builder \\\n",
    "    .appName(\"Hadoop_Spark_Hive_Integration\") \\\n",
    "    .config(\"spark.sql.catalogImplementation\", \"hive\") \\\n",
    "    .config(\"spark.hadoop.fs.defaultFS\", \"hdfs://namenode:9000\") \\\n",
    "    .config(\"spark.sql.warehouse.dir\", \"hdfs://namenode:9000/user/hive/warehouse\") \\\n",
    "    .config(\"hive.metastore.uris\", \"thrift://hive-metastore:9083\") \\\n",
    "    .enableHiveSupport() \\\n",
    "    .getOrCreate()\n",
    "\n",
    "# Check databases\n",
    "spark.sql(\"SHOW DATABASES\").show()\n",
    "spark.sql(\"SHOW TABLES\").show()\n"
   ]
  },
  {
   "cell_type": "code",
   "execution_count": 2,
   "id": "7a032181-9ce2-4bb2-baa0-a921c556964f",
   "metadata": {},
   "outputs": [],
   "source": [
    "df = spark.read.option(\"header\", \"true\").csv(\"hdfs://namenode:9000/user/root/data_crawl/*.csv\")\n"
   ]
  },
  {
   "cell_type": "code",
   "execution_count": 3,
   "id": "e4ec94f6-a401-4388-8b59-cb18be03a2d9",
   "metadata": {},
   "outputs": [],
   "source": [
    "from pyspark.sql.functions import to_date, input_file_name, regexp_extract\n",
    "\n",
    "df_cleaned = df.select(\n",
    "    to_date(\"Date\", \"yyyy-MM-dd\").alias(\"Date\"),\n",
    "    df[\"Open\"].cast(\"double\"),\n",
    "    df[\"High\"].cast(\"double\"),\n",
    "    df[\"Low\"].cast(\"double\"),\n",
    "    df[\"Close\"].cast(\"double\"),\n",
    "    df[\"Volume\"].cast(\"double\"),\n",
    "    input_file_name().alias(\"source_file\")\n",
    ")\n"
   ]
  },
  {
   "cell_type": "code",
   "execution_count": 4,
   "id": "6c4bce25-3fcd-428f-9ecf-6b7ba2350665",
   "metadata": {},
   "outputs": [],
   "source": [
    "df_cleaned = df_cleaned.withColumn(\"coin\", regexp_extract(\"source_file\", r\"([^/]+)\\.csv\", 1))\n"
   ]
  },
  {
   "cell_type": "code",
   "execution_count": 5,
   "id": "a8962b47-3b18-4d8b-bd20-0fa1de1b7f2a",
   "metadata": {},
   "outputs": [],
   "source": [
    "df_cleaned = df_cleaned.na.drop(subset=[\"Date\", \"Open\", \"High\", \"Low\", \"Close\", \"Volume\"])\n"
   ]
  },
  {
   "cell_type": "code",
   "execution_count": 6,
   "id": "a1e743c3-83ca-4ae0-96db-72bde9e57964",
   "metadata": {},
   "outputs": [
    {
     "name": "stdout",
     "output_type": "stream",
     "text": [
      "root\n",
      " |-- Date: date (nullable = true)\n",
      " |-- Open: double (nullable = true)\n",
      " |-- High: double (nullable = true)\n",
      " |-- Low: double (nullable = true)\n",
      " |-- Close: double (nullable = true)\n",
      " |-- Volume: double (nullable = true)\n",
      " |-- source_file: string (nullable = false)\n",
      " |-- coin: string (nullable = false)\n",
      "\n"
     ]
    }
   ],
   "source": [
    "df_cleaned.printSchema()\n"
   ]
  },
  {
   "cell_type": "code",
   "execution_count": 7,
   "id": "2d3e83c5-13a9-4aae-b677-64d2d490e1f2",
   "metadata": {},
   "outputs": [
    {
     "data": {
      "text/plain": [
       "DataFrame[]"
      ]
     },
     "execution_count": 7,
     "metadata": {},
     "output_type": "execute_result"
    }
   ],
   "source": [
    "spark.sql(\"CREATE DATABASE IF NOT EXISTS crypto_db\")\n"
   ]
  },
  {
   "cell_type": "code",
   "execution_count": 8,
   "id": "4ca84f04-d2d1-4dc4-a923-604a2d847bc0",
   "metadata": {},
   "outputs": [
    {
     "data": {
      "text/plain": [
       "DataFrame[]"
      ]
     },
     "execution_count": 8,
     "metadata": {},
     "output_type": "execute_result"
    }
   ],
   "source": [
    "spark.sql(\"\"\"\n",
    "CREATE TABLE IF NOT EXISTS crypto_db.crypto_prices (\n",
    "    Date DATE,\n",
    "    Open DOUBLE,\n",
    "    High DOUBLE,\n",
    "    Low DOUBLE,\n",
    "    Close DOUBLE,\n",
    "    Volume DOUBLE,\n",
    "    coin STRING\n",
    ")\n",
    "STORED AS PARQUET\n",
    "\"\"\")\n"
   ]
  },
  {
   "cell_type": "code",
   "execution_count": 9,
   "id": "48d5b039-703d-4c28-be54-ebfdb8db16da",
   "metadata": {},
   "outputs": [],
   "source": [
    "df_cleaned = df_cleaned.select(\"Date\", \"Open\", \"High\", \"Low\", \"Close\", \"Volume\", \"coin\")\n"
   ]
  },
  {
   "cell_type": "code",
   "execution_count": 10,
   "id": "134ec93f-8485-4901-9377-4e960fd9fc74",
   "metadata": {},
   "outputs": [],
   "source": [
    "df_cleaned.write.mode(\"overwrite\").insertInto(\"crypto_db.crypto_prices\")\n"
   ]
  },
  {
   "cell_type": "code",
   "execution_count": 11,
   "id": "7611b293-6648-4e84-bb69-3be2c9798582",
   "metadata": {},
   "outputs": [
    {
     "name": "stdout",
     "output_type": "stream",
     "text": [
      "+----------+-----------------+------------------+-----------------+-----------------+---------+--------+\n",
      "|      Date|             Open|              High|              Low|            Close|   Volume|    coin|\n",
      "+----------+-----------------+------------------+-----------------+-----------------+---------+--------+\n",
      "|2014-09-17| 5.08588981628418| 5.170770168304443|4.965950012207031|5.058549880981445|3071840.0|Litecoin|\n",
      "|2014-09-18|5.065430164337158| 5.065430164337158|4.579959869384766|4.685229778289795|4569260.0|Litecoin|\n",
      "|2014-09-19|4.687290191650391| 4.755819797515869|4.254350185394287|4.327770233154297|3917450.0|Litecoin|\n",
      "|2014-09-20| 4.32919979095459| 4.616079807281494|4.202189922332764|4.286439895629883|5490660.0|Litecoin|\n",
      "|2014-09-21|4.263070106506348|4.3001298904418945|4.154990196228027|4.245920181274414|2931220.0|Litecoin|\n",
      "|2014-09-22|4.245930194854736| 4.416880130767822|4.210130214691162|4.242350101470947|1855960.0|Litecoin|\n",
      "|2014-09-23|   4.239990234375| 4.881350040435791|4.188869953155518|4.746570110321045|4661670.0|Litecoin|\n",
      "|2014-09-24|4.744200229644775| 4.745120048522949|4.627689838409424|4.666790008544922|2662290.0|Litecoin|\n",
      "|2014-09-25| 4.66588020324707| 4.671319961547852|4.448699951171875|4.514649868011475|2046960.0|Litecoin|\n",
      "|2014-09-26| 4.50993013381958| 4.551819801330566|4.388800144195557|4.433589935302734|1548350.0|Litecoin|\n",
      "+----------+-----------------+------------------+-----------------+-----------------+---------+--------+\n",
      "\n"
     ]
    }
   ],
   "source": [
    "spark.sql(\"SELECT * FROM crypto_db.crypto_prices LIMIT 10\").show()\n"
   ]
  },
  {
   "cell_type": "code",
   "execution_count": null,
   "id": "49c6632a-bbf3-42e4-858a-ba921dc7a2c8",
   "metadata": {},
   "outputs": [],
   "source": []
  }
 ],
 "metadata": {
  "kernelspec": {
   "display_name": "Python 3 (ipykernel)",
   "language": "python",
   "name": "python3"
  },
  "language_info": {
   "codemirror_mode": {
    "name": "ipython",
    "version": 3
   },
   "file_extension": ".py",
   "mimetype": "text/x-python",
   "name": "python",
   "nbconvert_exporter": "python",
   "pygments_lexer": "ipython3",
   "version": "3.10.5"
  }
 },
 "nbformat": 4,
 "nbformat_minor": 5
}
