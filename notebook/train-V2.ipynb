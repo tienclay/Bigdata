{
 "cells": [
  {
   "cell_type": "code",
   "execution_count": 1,
   "id": "9768b019-26ed-4888-87d1-c8a4e051cf6c",
   "metadata": {},
   "outputs": [],
   "source": [
    "from pyspark.sql import SparkSession\n",
    "from pyspark.sql.functions import (\n",
    "    col, lag, avg, dayofmonth, month, year, date_format,dayofweek,\n",
    "    monotonically_increasing_id\n",
    ")\n",
    "from pyspark.sql.window import Window\n",
    "from pyspark.ml import Pipeline\n",
    "from pyspark.ml.feature import VectorAssembler\n",
    "from pyspark.ml.classification import RandomForestClassifier\n",
    "from pyspark.ml.evaluation import MulticlassClassificationEvaluator\n",
    "from pyspark.ml.tuning import ParamGridBuilder, CrossValidator"
   ]
  },
  {
   "cell_type": "code",
   "execution_count": 2,
   "id": "7658d931-0baa-49d3-990c-8ec1be7d4c97",
   "metadata": {},
   "outputs": [],
   "source": [
    "from pyspark.sql import SparkSession\n",
    "# Tạo Spark session + bật Hive\n",
    "spark = SparkSession.builder \\\n",
    "    .appName(\"CryptoTrainAllCoins_Optimized\") \\\n",
    "    .config(\"spark.sql.catalogImplementation\", \"hive\") \\\n",
    "    .config(\"spark.hadoop.fs.defaultFS\", \"hdfs://namenode:9000\") \\\n",
    "    .config(\"spark.sql.warehouse.dir\", \"hdfs://namenode:9000/user/hive/warehouse\") \\\n",
    "    .config(\"hive.metastore.uris\", \"thrift://hive-metastore:9083\") \\\n",
    "    .config(\"spark.sql.shuffle.partitions\", \"8\")\\\n",
    "    .enableHiveSupport() \\\n",
    "    .getOrCreate()"
   ]
  },
  {
   "cell_type": "code",
   "execution_count": 3,
   "id": "f53efa7b-ca73-44b9-bff4-e8bca5ec26cb",
   "metadata": {},
   "outputs": [],
   "source": [
    "# 2. Đọc dữ liệu thô từ Hive\n",
    "df_raw = spark.sql(\"SELECT Date, Open, High, Low, Close, Volume, coin FROM crypto_db.crypto_prices\")"
   ]
  },
  {
   "cell_type": "code",
   "execution_count": 4,
   "id": "cd34e234-6e1b-4059-9bf6-981acedd0054",
   "metadata": {},
   "outputs": [],
   "source": [
    "# 3. Tạo dimension tables (dim_coin, dim_date)\n",
    "dim_coin = df_raw.select(\"coin\").distinct() \\\n",
    "    .withColumn(\"coin_id\", monotonically_increasing_id())\n",
    "dim_coin.write.mode(\"overwrite\").saveAsTable(\"crypto_db.dim_coin\")\n",
    "\n",
    "dim_date = df_raw.select(\"Date\").distinct() \\\n",
    "    .withColumn(\"date_id\", date_format(\"Date\", \"yyyyMMdd\").cast(\"int\")) \\\n",
    "    .withColumn(\"day\", dayofmonth(\"Date\")) \\\n",
    "    .withColumn(\"month\", month(\"Date\")) \\\n",
    "    .withColumn(\"year\", year(\"Date\")) \\\n",
    "    .withColumn(\"weekday\", date_format(\"Date\", \"E\")) \\\n",
    "    .withColumn(\"is_weekend\", ((dayofweek(\"Date\") == 1) | (dayofweek(\"Date\") == 7)).cast(\"boolean\"))"
   ]
  },
  {
   "cell_type": "code",
   "execution_count": 5,
   "id": "654bac66-7074-4c50-b454-1419421ef0a7",
   "metadata": {},
   "outputs": [],
   "source": [
    "# Ghi vào Hive table\n",
    "dim_date.write \\\n",
    "    .format(\"parquet\") \\\n",
    "    .mode(\"overwrite\") \\\n",
    "    .saveAsTable(\"crypto_db.dim_date\")"
   ]
  },
  {
   "cell_type": "code",
   "execution_count": 6,
   "id": "e96c605b-57bc-4e5d-a3eb-58fd70a93f74",
   "metadata": {},
   "outputs": [],
   "source": [
    "# 4. Tính feature & label cho toàn bộ coin\n",
    "window = Window.partitionBy(\"coin\").orderBy(\"Date\")\n",
    "df_feat = df_raw.orderBy(\"coin\", \"Date\")\n",
    "df_feat = df_feat.withColumn(\"prev_close\", lag(\"Close\", 1).over(window)) \\\n",
    "                 .withColumn(\"label\", (col(\"Close\") > col(\"prev_close\")).cast(\"int\")) \\\n",
    "                 .withColumn(\"pct_change\", ((col(\"Close\") - col(\"prev_close\")) / col(\"prev_close\")) * 100) \\\n",
    "                 .withColumn(\"ma7\", avg(\"Close\").over(window.rowsBetween(-6, 0))) \\\n",
    "                 .withColumn(\"ma30\", avg(\"Close\").over(window.rowsBetween(-29, 0))) \\\n",
    "                 .dropna()"
   ]
  },
  {
   "cell_type": "code",
   "execution_count": 7,
   "id": "8168ffb1-6b9b-4e8f-9497-52e0ad8507de",
   "metadata": {},
   "outputs": [],
   "source": [
    "# 5. Join dim_coin để lấy coin_id, tạo date_id\n",
    "df_joined = df_feat.join(dim_coin, on=\"coin\", how=\"left\") \\\n",
    "                   .join(dim_date.select(\"Date\", \"date_id\"), on=\"Date\", how=\"left\")\n",
    "\n"
   ]
  },
  {
   "cell_type": "code",
   "execution_count": 8,
   "id": "71cd43e0-f247-4bbd-89f2-dee00e639776",
   "metadata": {},
   "outputs": [
    {
     "name": "stdout",
     "output_type": "stream",
     "text": [
      "+--------+-------+-------------------+-------------------+-------------------+-------------------+--------+-------------------+-------------------+-------------------+-----+\n",
      "| date_id|coin_id|               Open|               High|                Low|              Close|  Volume|         pct_change|                ma7|               ma30|label|\n",
      "+--------+-------+-------------------+-------------------+-------------------+-------------------+--------+-------------------+-------------------+-------------------+-----+\n",
      "|20211121|     67| 0.2990280091762543| 0.3323259949684143|0.27083298563957214|  0.293969988822937|666013.0|-1.6789933455869162| 0.2964800000190735| 0.2964800000190735|    0|\n",
      "|20211122|     67|0.29424700140953064| 0.3332839906215668|0.25044599175453186| 0.2847540080547333|620981.0|-3.1350073540175805| 0.2925713360309601| 0.2925713360309601|    0|\n",
      "|20211123|     67|0.28477799892425537|0.28861498832702637|0.20972900092601776| 0.2461860030889511|642836.0|-13.544323828575896|0.28097500279545784|0.28097500279545784|    0|\n",
      "|20211124|     67|0.24621300399303436|0.24621300399303436|0.20788699388504028|0.24449799954891205|611420.0|-0.6856618649554819|0.27367960214614867|0.27367960214614867|    0|\n",
      "|20211125|     67|0.21339599788188934| 0.2313379943370819|0.18661099672317505|0.19550099968910217|454200.0|-20.039836706315455|0.26064983506997425|0.26064983506997425|    0|\n",
      "|20211126|     67| 0.2313150018453598|0.25224700570106506|0.21109600365161896| 0.2159229964017868|299732.0| 10.445980708620906| 0.2542602866888046| 0.2542602866888046|    1|\n",
      "|20211127|     67|0.21592099964618683| 0.2192690074443817| 0.2115209996700287| 0.2128800004720688| 44601.0|-1.4092968236026369| 0.2419588565826416|0.24908775091171265|    0|\n",
      "|20211128|     67|0.21286700665950775| 0.2206449955701828| 0.2082590013742447|0.21818900108337402|114025.0|   2.49389355483481|0.23113300119127547|0.24565455648634169|    1|\n",
      "|20211129|     67|0.21805399656295776|0.21924400329589844|0.19550399482250214|0.19558000564575195|138639.0| -10.36211510450188|0.21839385798999242| 0.2406471014022827|    0|\n",
      "|20211130|     67|0.19557499885559082| 0.1964540034532547|0.17929300665855408| 0.1793929934501648| 91407.0|  -8.27641462742679| 0.2088519994701658|0.23507854613390836|    0|\n",
      "|20211201|     67|0.17938700318336487|  0.179967999458313| 0.1680299937725067|   0.16805499792099| 99197.0| -6.320199753132771|0.19793157066617692| 0.2294932504494985|    0|\n",
      "|20211202|     67|0.16806499660015106|  0.172434002161026|0.16118499636650085| 0.1666959971189499|128777.0|-0.8086643175462273| 0.1938165702990123|0.22466269250099474|    0|\n",
      "|20211203|     67|0.16672199964523315|0.17190299928188324|0.15770399570465088|0.16391700506210327| 96911.0| -1.667101852999867|0.18638714296477182|0.22032371482678823|    0|\n",
      "|20211204|     67| 0.1638990044593811| 0.1640470027923584|0.13547499477863312|0.13570700585842133|129469.0|-17.209928398212266|0.17536242944853647|0.21468260089556376|    0|\n",
      "|20211205|     67| 0.1355230063199997|0.14146800339221954| 0.1349090039730072|0.13793699443340302| 47483.0|  1.643237621282547|0.16389785706996918|0.20988600049167871|    1|\n",
      "|20211206|     67|0.13794299960136414|  0.138372004032135|0.12143799662590027| 0.1217309981584549|108012.0|-11.748839636180772|0.15334799885749817|0.20470041211913614|    0|\n",
      "|20211207|     67|0.12166500091552734|0.12198299914598465|0.10954999923706055| 0.1096939966082573|123880.0| -9.888197527575736|0.14339099930865423|0.19942227792408732|    0|\n",
      "|20211208|     67|0.10968799889087677|0.11003699898719788|0.10726899653673172|0.10730099678039551| 31444.0|-2.1815230567336727|0.13471185628856933|0.19457378944284037|    0|\n",
      "|20211209|     67|0.10731499642133713|0.10752800107002258|0.10437099635601044|0.10506200045347214| 27475.0| -2.086650072324815| 0.1259069996220725|0.19009819999337196|    0|\n",
      "|20211210|     67|   0.10504200309515|0.10516300052404404|0.09933199733495712|0.09954500198364258| 60579.0| -5.251183535452309| 0.1167109991822924| 0.1857861429452896|    0|\n",
      "+--------+-------+-------------------+-------------------+-------------------+-------------------+--------+-------------------+-------------------+-------------------+-----+\n",
      "only showing top 20 rows\n",
      "\n"
     ]
    }
   ],
   "source": [
    "# 6. Tạo fact table & lưu\n",
    "fact_df = df_joined.select(\n",
    "    \"date_id\", \"coin_id\", \"Open\", \"High\", \"Low\", \"Close\", \"Volume\",\n",
    "    \"pct_change\", \"ma7\", \"ma30\", \"label\"\n",
    ")\n",
    "fact_df.write.partitionBy(\"coin_id\").mode(\"overwrite\").saveAsTable(\"crypto_db.fact_crypto_price\")\n",
    "fact_df.show(20)  # Hiển thị 20 dòng đầu tiên\n"
   ]
  },
  {
   "cell_type": "code",
   "execution_count": 9,
   "id": "810110a0-f912-4dad-8e65-8184d6a81aeb",
   "metadata": {},
   "outputs": [],
   "source": [
    "# 7. ML Pipeline\n",
    "assembler = VectorAssembler(\n",
    "    inputCols=[\"Open\", \"High\", \"Low\", \"Volume\", \"pct_change\", \"ma7\", \"ma30\"],\n",
    "    outputCol=\"features\"\n",
    ")\n",
    "rf = RandomForestClassifier(featuresCol=\"features\", labelCol=\"label\", seed=42)\n",
    "pipeline = Pipeline(stages=[assembler, rf])"
   ]
  },
  {
   "cell_type": "code",
   "execution_count": 10,
   "id": "0da23abe-a347-496d-8a83-f50be4e505c3",
   "metadata": {},
   "outputs": [
    {
     "name": "stdout",
     "output_type": "stream",
     "text": [
      "\n",
      "========== TRAIN CHO COIN ID 2 ==========\n",
      "[RF|Coin 2] F1 = 0.9974, Acc = 0.9974\n",
      "[GBT|Coin 2] F1 = 0.9974, Acc = 0.9974\n",
      "\n",
      "========== TRAIN CHO COIN ID 1 ==========\n",
      "[RF|Coin 1] F1 = 0.9961, Acc = 0.9961\n",
      "[GBT|Coin 1] F1 = 0.9961, Acc = 0.9961\n",
      "\n",
      "========== TRAIN CHO COIN ID 21 ==========\n",
      "[RF|Coin 21] F1 = 0.9981, Acc = 0.9981\n",
      "[GBT|Coin 21] F1 = 0.9981, Acc = 0.9981\n",
      "\n",
      "========== TRAIN CHO COIN ID 9 ==========\n",
      "[RF|Coin 9] F1 = 0.9981, Acc = 0.9981\n",
      "[GBT|Coin 9] F1 = 0.9740, Acc = 0.9740\n",
      "\n",
      "========== TRAIN CHO COIN ID 11 ==========\n",
      "[RF|Coin 11] F1 = 0.9963, Acc = 0.9963\n",
      "[GBT|Coin 11] F1 = 0.9944, Acc = 0.9944\n",
      "\n",
      "========== TRAIN CHO COIN ID 12 ==========\n",
      "[RF|Coin 12] F1 = 0.9889, Acc = 0.9888\n",
      "[GBT|Coin 12] F1 = 0.9703, Acc = 0.9703\n",
      "\n",
      "========== TRAIN CHO COIN ID 22 ==========\n",
      "[RF|Coin 22] F1 = 0.9889, Acc = 0.9888\n",
      "[GBT|Coin 22] F1 = 0.9814, Acc = 0.9814\n",
      "\n",
      "========== TRAIN CHO COIN ID 6 ==========\n",
      "[RF|Coin 6] F1 = 0.9870, Acc = 0.9870\n",
      "[GBT|Coin 6] F1 = 0.9851, Acc = 0.9851\n",
      "\n",
      "========== TRAIN CHO COIN ID 17 ==========\n",
      "[RF|Coin 17] F1 = 0.9889, Acc = 0.9888\n",
      "[GBT|Coin 17] F1 = 0.9814, Acc = 0.9814\n",
      "\n",
      "========== TRAIN CHO COIN ID 23 ==========\n",
      "[RF|Coin 23] F1 = 0.9888, Acc = 0.9888\n",
      "[GBT|Coin 23] F1 = 0.9833, Acc = 0.9833\n",
      "\n",
      "=== TỔNG KẾT KẾT QUẢ RANDOM FOREST ===\n",
      "Coin 2 => F1: 0.9974, Acc: 0.9974\n",
      "Coin 1 => F1: 0.9961, Acc: 0.9961\n",
      "Coin 21 => F1: 0.9981, Acc: 0.9981\n",
      "Coin 9 => F1: 0.9981, Acc: 0.9981\n",
      "Coin 11 => F1: 0.9963, Acc: 0.9963\n",
      "Coin 12 => F1: 0.9889, Acc: 0.9888\n",
      "Coin 22 => F1: 0.9889, Acc: 0.9888\n",
      "Coin 6 => F1: 0.9870, Acc: 0.9870\n",
      "Coin 17 => F1: 0.9889, Acc: 0.9888\n",
      "Coin 23 => F1: 0.9888, Acc: 0.9888\n",
      "\n",
      "=== TỔNG KẾT KẾT QUẢ GBT ===\n",
      "Coin 2 => F1: 0.9974, Acc: 0.9974\n",
      "Coin 1 => F1: 0.9961, Acc: 0.9961\n",
      "Coin 21 => F1: 0.9981, Acc: 0.9981\n",
      "Coin 9 => F1: 0.9740, Acc: 0.9740\n",
      "Coin 11 => F1: 0.9944, Acc: 0.9944\n",
      "Coin 12 => F1: 0.9703, Acc: 0.9703\n",
      "Coin 22 => F1: 0.9814, Acc: 0.9814\n",
      "Coin 6 => F1: 0.9851, Acc: 0.9851\n",
      "Coin 17 => F1: 0.9814, Acc: 0.9814\n",
      "Coin 23 => F1: 0.9833, Acc: 0.9833\n"
     ]
    }
   ],
   "source": [
    "from pyspark.sql.window import Window\n",
    "from pyspark.sql.functions import col, row_number\n",
    "from pyspark.ml.feature import VectorAssembler\n",
    "from pyspark.ml.classification import RandomForestClassifier, GBTClassifier\n",
    "from pyspark.ml.evaluation import MulticlassClassificationEvaluator\n",
    "\n",
    "coin_ids = [2, 1, 21, 9, 11, 12, 22, 6, 17, 23]\n",
    "\n",
    "results_rf = []\n",
    "results_gbt = []\n",
    "\n",
    "evaluator_f1 = MulticlassClassificationEvaluator(labelCol=\"label\", predictionCol=\"prediction\", metricName=\"f1\")\n",
    "evaluator_acc = MulticlassClassificationEvaluator(labelCol=\"label\", predictionCol=\"prediction\", metricName=\"accuracy\")\n",
    "\n",
    "for cid in coin_ids:\n",
    "    print(f\"\\n========== TRAIN CHO COIN ID {cid} ==========\")\n",
    "    coin_data = fact_df.filter(col(\"coin_id\") == cid).orderBy(\"date_id\")\n",
    "    total = coin_data.count()\n",
    "    if total < 100:\n",
    "        print(f\"[WARN] Coin {cid} chỉ có {total} record, bỏ qua.\")\n",
    "        continue\n",
    "\n",
    "    w = Window.orderBy(\"date_id\")\n",
    "    coin_data = coin_data.withColumn(\"row_num\", row_number().over(w))\n",
    "\n",
    "    train_cnt = int(total * 0.8)\n",
    "    train_df = coin_data.filter(col(\"row_num\") <= train_cnt)\n",
    "    test_df = coin_data.filter(col(\"row_num\") > train_cnt)\n",
    "\n",
    "    if train_df.count() == 0 or test_df.count() == 0:\n",
    "        print(f\"[ERROR] Train/Test rỗng cho Coin {cid}, bỏ qua.\")\n",
    "        continue\n",
    "\n",
    "    label_dist = train_df.groupBy(\"label\").count().collect()\n",
    "    if len(label_dist) < 2:\n",
    "        print(f\"[SKIP] Coin {cid} chỉ có 1 nhãn trong train set, bỏ qua.\")\n",
    "        continue\n",
    "\n",
    "    assembler = VectorAssembler(\n",
    "        inputCols=[\"Open\", \"High\", \"Low\", \"Volume\", \"pct_change\", \"ma7\", \"ma30\"],\n",
    "        outputCol=\"features\"\n",
    "    )\n",
    "    train_vec = assembler.transform(train_df)\n",
    "    test_vec = assembler.transform(test_df)\n",
    "\n",
    "    # Random Forest\n",
    "    rf = RandomForestClassifier(featuresCol=\"features\", labelCol=\"label\", numTrees=100, maxDepth=10, seed=42)\n",
    "    rf_model = rf.fit(train_vec)\n",
    "    rf_preds = rf_model.transform(test_vec)\n",
    "    rf_f1 = evaluator_f1.evaluate(rf_preds)\n",
    "    rf_acc = evaluator_acc.evaluate(rf_preds)\n",
    "    results_rf.append((cid, rf_f1, rf_acc))\n",
    "\n",
    "    print(f\"[RF|Coin {cid}] F1 = {rf_f1:.4f}, Acc = {rf_acc:.4f}\")\n",
    "\n",
    "    # rf_preds.select(\"date_id\", \"coin_id\", \"label\", \"prediction\") \\\n",
    "    #     .write.mode(\"overwrite\") \\\n",
    "    #     .saveAsTable(f\"crypto_db.predictions_rf_coin_{cid}\")\n",
    "\n",
    "    # GBT\n",
    "    gbt = GBTClassifier(featuresCol=\"features\", labelCol=\"label\", maxIter=50, maxDepth=10, seed=42)\n",
    "    gbt_model = gbt.fit(train_vec)\n",
    "    gbt_preds = gbt_model.transform(test_vec)\n",
    "    gbt_f1 = evaluator_f1.evaluate(gbt_preds)\n",
    "    gbt_acc = evaluator_acc.evaluate(gbt_preds)\n",
    "    results_gbt.append((cid, gbt_f1, gbt_acc))\n",
    "\n",
    "    print(f\"[GBT|Coin {cid}] F1 = {gbt_f1:.4f}, Acc = {gbt_acc:.4f}\")\n",
    "\n",
    "    # gbt_preds.select(\"date_id\", \"coin_id\", \"label\", \"prediction\") \\\n",
    "    #     .write.mode(\"overwrite\") \\\n",
    "    #     .saveAsTable(f\"crypto_db.predictions_gbt_coin_{cid}\")\n",
    "\n",
    "print(\"\\n=== TỔNG KẾT KẾT QUẢ RANDOM FOREST ===\")\n",
    "for (cid, f1, acc) in results_rf:\n",
    "    print(f\"Coin {cid} => F1: {f1:.4f}, Acc: {acc:.4f}\")\n",
    "\n",
    "print(\"\\n=== TỔNG KẾT KẾT QUẢ GBT ===\")\n",
    "for (cid, f1, acc) in results_gbt:\n",
    "    print(f\"Coin {cid} => F1: {f1:.4f}, Acc: {acc:.4f}\")\n"
   ]
  },
  {
   "cell_type": "code",
   "execution_count": 11,
   "id": "e66b8479-6cc7-44a7-9c43-945768a06527",
   "metadata": {},
   "outputs": [
    {
     "name": "stdout",
     "output_type": "stream",
     "text": [
      "\n",
      "=== BẢNG SO SÁNH KẾT QUẢ GIỮA RANDOM FOREST VÀ GBT ===\n",
      "+-------+------------------+------------------+---------------+------------------+------------------+----------------+\n",
      "|Coin ID|RF F1             |GBT F1            |F1 Better Model|RF Acc            |GBT Acc           |Acc Better Model|\n",
      "+-------+------------------+------------------+---------------+------------------+------------------+----------------+\n",
      "|2      |0.9973920914430652|0.9973920914430652|Tie            |0.9973924380704041|0.9973924380704041|Tie             |\n",
      "|1      |0.9960886969979328|0.9960886969979328|Tie            |0.9960886571056062|0.9960886571056062|Tie             |\n",
      "|21     |0.9981411030494383|0.9981411030494383|Tie            |0.9981412639405205|0.9981412639405205|Tie             |\n",
      "|9      |0.9981412960520275|0.9739582540430338|RF             |0.9981412639405205|0.9739776951672863|RF              |\n",
      "|11     |0.9962827334223842|0.9944239652572584|RF             |0.9962825278810409|0.9944237918215614|RF              |\n",
      "|12     |0.9888572678141889|0.9703357289338708|RF             |0.9888475836431226|0.9702602230483272|RF              |\n",
      "|22     |0.9888525330547226|0.9813898826438993|RF             |0.9888475836431226|0.9814126394052045|RF              |\n",
      "|6      |0.9869973650067307|0.985138765793075 |RF             |0.9869888475836431|0.9851301115241635|RF              |\n",
      "|17     |0.9888526781854785|0.9814087743390943|RF             |0.9888475836431226|0.9814126394052045|RF              |\n",
      "|23     |0.9888423224854452|0.9832695778289113|RF             |0.9888475836431226|0.983271375464684 |RF              |\n",
      "+-------+------------------+------------------+---------------+------------------+------------------+----------------+\n",
      "\n",
      "\n",
      "Số coin RF thắng GBT về F1: 7\n",
      "Số coin GBT thắng RF về F1: 0\n",
      "Số coin RF thắng GBT về Accuracy: 7\n",
      "Số coin GBT thắng RF về Accuracy: 0\n"
     ]
    }
   ],
   "source": [
    "from pyspark.sql import SparkSession\n",
    "\n",
    "# Khởi tạo SparkSession nếu cần\n",
    "spark = SparkSession.builder.getOrCreate()\n",
    "\n",
    "print(\"\\n=== BẢNG SO SÁNH KẾT QUẢ GIỮA RANDOM FOREST VÀ GBT ===\")\n",
    "comparison_data = []\n",
    "rf_better_f1 = 0\n",
    "gbt_better_f1 = 0\n",
    "rf_better_acc = 0\n",
    "gbt_better_acc = 0\n",
    "\n",
    "for i in range(len(results_rf)):\n",
    "    cid = results_rf[i][0]\n",
    "    rf_f1, rf_acc = results_rf[i][1], results_rf[i][2]\n",
    "    gbt_f1, gbt_acc = results_gbt[i][1], results_gbt[i][2]\n",
    "\n",
    "    f1_winner = \"RF\" if rf_f1 > gbt_f1 else \"GBT\" if gbt_f1 > rf_f1 else \"Tie\"\n",
    "    acc_winner = \"RF\" if rf_acc > gbt_acc else \"GBT\" if gbt_acc > rf_acc else \"Tie\"\n",
    "\n",
    "    if f1_winner == \"RF\": rf_better_f1 += 1\n",
    "    elif f1_winner == \"GBT\": gbt_better_f1 += 1\n",
    "\n",
    "    if acc_winner == \"RF\": rf_better_acc += 1\n",
    "    elif acc_winner == \"GBT\": gbt_better_acc += 1\n",
    "\n",
    "    comparison_data.append((cid, rf_f1, gbt_f1, f1_winner, rf_acc, gbt_acc, acc_winner))\n",
    "\n",
    "# Tạo DataFrame để in đẹp hơn\n",
    "comparison_df = spark.createDataFrame(comparison_data, [\n",
    "    \"Coin ID\", \"RF F1\", \"GBT F1\", \"F1 Better Model\", \"RF Acc\", \"GBT Acc\", \"Acc Better Model\"\n",
    "])\n",
    "\n",
    "comparison_df.show(truncate=False)\n",
    "\n",
    "print(f\"\\nSố coin RF thắng GBT về F1: {rf_better_f1}\")\n",
    "print(f\"Số coin GBT thắng RF về F1: {gbt_better_f1}\")\n",
    "print(f\"Số coin RF thắng GBT về Accuracy: {rf_better_acc}\")\n",
    "print(f\"Số coin GBT thắng RF về Accuracy: {gbt_better_acc}\")\n"
   ]
  },
  {
   "cell_type": "code",
   "execution_count": 22,
   "id": "92e966f3-a6b5-47f1-a52e-584abedd5e12",
   "metadata": {},
   "outputs": [
    {
     "name": "stdout",
     "output_type": "stream",
     "text": [
      "+-------+------------------+------------------+---------------+------------------+------------------+----------------+\n",
      "|Coin ID|             RF F1|            GBT F1|F1 Better Model|            RF Acc|           GBT Acc|Acc Better Model|\n",
      "+-------+------------------+------------------+---------------+------------------+------------------+----------------+\n",
      "|      2|0.9973920914430652|0.9973920914430652|            Tie|0.9973924380704041|0.9973924380704041|             Tie|\n",
      "|      1|0.9960886969979328|0.9960886969979328|            Tie|0.9960886571056062|0.9960886571056062|             Tie|\n",
      "|     21|0.9981411030494383|0.9981411030494383|            Tie|0.9981412639405205|0.9981412639405205|             Tie|\n",
      "|      9|0.9981412960520275|0.9739582540430338|             RF|0.9981412639405205|0.9739776951672863|              RF|\n",
      "|     11|0.9962827334223842|0.9944239652572584|             RF|0.9962825278810409|0.9944237918215614|              RF|\n",
      "|     12|0.9888572678141889|0.9703357289338708|             RF|0.9888475836431226|0.9702602230483272|              RF|\n",
      "|     22|0.9888525330547226|0.9813898826438993|             RF|0.9888475836431226|0.9814126394052045|              RF|\n",
      "|      6|0.9869973650067307| 0.985138765793075|             RF|0.9869888475836431|0.9851301115241635|              RF|\n",
      "|     17|0.9888526781854785|0.9814087743390943|             RF|0.9888475836431226|0.9814126394052045|              RF|\n",
      "|     23|0.9888423224854452|0.9832695778289113|             RF|0.9888475836431226| 0.983271375464684|              RF|\n",
      "+-------+------------------+------------------+---------------+------------------+------------------+----------------+\n",
      "\n"
     ]
    }
   ],
   "source": [
    "comparison_df.show()\n"
   ]
  },
  {
   "cell_type": "code",
   "execution_count": 21,
   "id": "5cefc5d5-5e44-4189-8d7c-e14f3da3f3f7",
   "metadata": {},
   "outputs": [
    {
     "name": "stdout",
     "output_type": "stream",
     "text": [
      "ls: cannot access 'comparison_rf_gbt.csv': No such file or directory\n"
     ]
    }
   ],
   "source": [
    "!ls comparison_rf_gbt.csv\n"
   ]
  },
  {
   "cell_type": "code",
   "execution_count": 13,
   "id": "90cdcf13-4f1a-46e2-be47-8851b0e7cbe7",
   "metadata": {},
   "outputs": [
    {
     "data": {
      "text/plain": [
       "<AxesSubplot:xlabel='Coin ID'>"
      ]
     },
     "execution_count": 13,
     "metadata": {},
     "output_type": "execute_result"
    },
    {
     "data": {
      "image/png": "[encoded data removed]",
      "text/plain": [
       "<Figure size 432x288 with 1 Axes>"
      ]
     },
     "metadata": {
      "needs_background": "light"
     },
     "output_type": "display_data"
    }
   ],
   "source": [
    "comparison_df_pd = comparison_df.toPandas()\n",
    "comparison_df_pd.plot.bar(x=\"Coin ID\", y=[\"RF F1\", \"GBT F1\"])\n"
   ]
  },
  {
   "cell_type": "code",
   "execution_count": 14,
   "id": "71ec0f2e-d536-4777-8389-a56854e8b288",
   "metadata": {},
   "outputs": [
    {
     "name": "stdout",
     "output_type": "stream",
     "text": [
      "Correlation matrix:\n",
      " [[ 1.00000000e+00  9.99097754e-01  9.99652848e-01  7.79208187e-03\n",
      "  -3.82963507e-04  9.99462376e-01  9.95892197e-01]\n",
      " [ 9.99097754e-01  1.00000000e+00  9.98819409e-01  7.82839986e-03\n",
      "   2.24966299e-03  9.98686494e-01  9.95063860e-01]\n",
      " [ 9.99652848e-01  9.98819409e-01  1.00000000e+00  7.72067235e-03\n",
      "  -3.82513637e-04  9.99140026e-01  9.95463303e-01]\n",
      " [ 7.79208187e-03  7.82839986e-03  7.72067235e-03  1.00000000e+00\n",
      "  -2.44135373e-05  7.79233872e-03  7.70254770e-03]\n",
      " [-3.82963507e-04  2.24966299e-03 -3.82513637e-04 -2.44135373e-05\n",
      "   1.00000000e+00 -1.25769628e-05 -2.96093326e-04]\n",
      " [ 9.99462376e-01  9.98686494e-01  9.99140026e-01  7.79233872e-03\n",
      "  -1.25769628e-05  1.00000000e+00  9.97166445e-01]\n",
      " [ 9.95892197e-01  9.95063860e-01  9.95463303e-01  7.70254770e-03\n",
      "  -2.96093326e-04  9.97166445e-01  1.00000000e+00]]\n"
     ]
    },
    {
     "name": "stderr",
     "output_type": "stream",
     "text": [
      "/usr/local/spark/python/pyspark/sql/context.py:125: FutureWarning: Deprecated in 3.0.0. Use SparkSession.builder.getOrCreate() instead.\n",
      "  warnings.warn(\n"
     ]
    }
   ],
   "source": [
    "from pyspark.ml.feature import VectorAssembler\n",
    "from pyspark.ml.stat import Correlation\n",
    "\n",
    "vec_df = VectorAssembler(inputCols=[\"Open\", \"High\", \"Low\", \"Volume\", \"pct_change\", \"ma7\", \"ma30\"], outputCol=\"features\")\\\n",
    "    .transform(fact_df.dropna())\n",
    "\n",
    "correlation_matrix = Correlation.corr(vec_df, \"features\").head()[0]\n",
    "print(\"Correlation matrix:\\n\", correlation_matrix.toArray())\n"
   ]
  },
  {
   "cell_type": "code",
   "execution_count": 16,
   "id": "a6357b01-592a-48bf-93d2-1635c63be3e8",
   "metadata": {},
   "outputs": [
    {
     "data": {
      "image/png": "[encoded data removed]",
      "text/plain": [
       "<Figure size 720x576 with 2 Axes>"
      ]
     },
     "metadata": {
      "needs_background": "light"
     },
     "output_type": "display_data"
    },
    {
     "name": "stdout",
     "output_type": "stream",
     "text": [
      "+--------+-------+-------------------+-------------------+-------------------+-------------------+--------+-------------------+-------------------+-------------------+-----+\n",
      "| date_id|coin_id|               Open|               High|                Low|              Close|  Volume|         pct_change|                ma7|               ma30|label|\n",
      "+--------+-------+-------------------+-------------------+-------------------+-------------------+--------+-------------------+-------------------+-------------------+-----+\n",
      "|20211121|     67| 0.2990280091762543| 0.3323259949684143|0.27083298563957214|  0.293969988822937|666013.0|-1.6789933455869162| 0.2964800000190735| 0.2964800000190735|    0|\n",
      "|20211122|     67|0.29424700140953064| 0.3332839906215668|0.25044599175453186| 0.2847540080547333|620981.0|-3.1350073540175805| 0.2925713360309601| 0.2925713360309601|    0|\n",
      "|20211123|     67|0.28477799892425537|0.28861498832702637|0.20972900092601776| 0.2461860030889511|642836.0|-13.544323828575896|0.28097500279545784|0.28097500279545784|    0|\n",
      "|20211124|     67|0.24621300399303436|0.24621300399303436|0.20788699388504028|0.24449799954891205|611420.0|-0.6856618649554819|0.27367960214614867|0.27367960214614867|    0|\n",
      "|20211125|     67|0.21339599788188934| 0.2313379943370819|0.18661099672317505|0.19550099968910217|454200.0|-20.039836706315455|0.26064983506997425|0.26064983506997425|    0|\n",
      "|20211126|     67| 0.2313150018453598|0.25224700570106506|0.21109600365161896| 0.2159229964017868|299732.0| 10.445980708620906| 0.2542602866888046| 0.2542602866888046|    1|\n",
      "|20211127|     67|0.21592099964618683| 0.2192690074443817| 0.2115209996700287| 0.2128800004720688| 44601.0|-1.4092968236026369| 0.2419588565826416|0.24908775091171265|    0|\n",
      "|20211128|     67|0.21286700665950775| 0.2206449955701828| 0.2082590013742447|0.21818900108337402|114025.0|   2.49389355483481|0.23113300119127547|0.24565455648634169|    1|\n",
      "|20211129|     67|0.21805399656295776|0.21924400329589844|0.19550399482250214|0.19558000564575195|138639.0| -10.36211510450188|0.21839385798999242| 0.2406471014022827|    0|\n",
      "|20211130|     67|0.19557499885559082| 0.1964540034532547|0.17929300665855408| 0.1793929934501648| 91407.0|  -8.27641462742679| 0.2088519994701658|0.23507854613390836|    0|\n",
      "|20211201|     67|0.17938700318336487|  0.179967999458313| 0.1680299937725067|   0.16805499792099| 99197.0| -6.320199753132771|0.19793157066617692| 0.2294932504494985|    0|\n",
      "|20211202|     67|0.16806499660015106|  0.172434002161026|0.16118499636650085| 0.1666959971189499|128777.0|-0.8086643175462273| 0.1938165702990123|0.22466269250099474|    0|\n",
      "|20211203|     67|0.16672199964523315|0.17190299928188324|0.15770399570465088|0.16391700506210327| 96911.0| -1.667101852999867|0.18638714296477182|0.22032371482678823|    0|\n",
      "|20211204|     67| 0.1638990044593811| 0.1640470027923584|0.13547499477863312|0.13570700585842133|129469.0|-17.209928398212266|0.17536242944853647|0.21468260089556376|    0|\n",
      "|20211205|     67| 0.1355230063199997|0.14146800339221954| 0.1349090039730072|0.13793699443340302| 47483.0|  1.643237621282547|0.16389785706996918|0.20988600049167871|    1|\n",
      "|20211206|     67|0.13794299960136414|  0.138372004032135|0.12143799662590027| 0.1217309981584549|108012.0|-11.748839636180772|0.15334799885749817|0.20470041211913614|    0|\n",
      "|20211207|     67|0.12166500091552734|0.12198299914598465|0.10954999923706055| 0.1096939966082573|123880.0| -9.888197527575736|0.14339099930865423|0.19942227792408732|    0|\n",
      "|20211208|     67|0.10968799889087677|0.11003699898719788|0.10726899653673172|0.10730099678039551| 31444.0|-2.1815230567336727|0.13471185628856933|0.19457378944284037|    0|\n",
      "|20211209|     67|0.10731499642133713|0.10752800107002258|0.10437099635601044|0.10506200045347214| 27475.0| -2.086650072324815| 0.1259069996220725|0.19009819999337196|    0|\n",
      "|20211210|     67|   0.10504200309515|0.10516300052404404|0.09933199733495712|0.09954500198364258| 60579.0| -5.251183535452309| 0.1167109991822924| 0.1857861429452896|    0|\n",
      "+--------+-------+-------------------+-------------------+-------------------+-------------------+--------+-------------------+-------------------+-------------------+-----+\n",
      "only showing top 20 rows\n",
      "\n"
     ]
    }
   ],
   "source": [
    "import seaborn as sns\n",
    "import matplotlib.pyplot as plt\n",
    "import pandas as pd\n",
    "\n",
    "# Tên các cột\n",
    "feature_cols = [\"Open\", \"High\", \"Low\", \"Volume\", \"pct_change\", \"ma7\", \"ma30\"]\n",
    "\n",
    "# Lấy ma trận tương quan dưới dạng array\n",
    "corr_array = correlation_matrix.toArray()\n",
    "\n",
    "# Tạo DataFrame Pandas cho đẹp\n",
    "corr_df = pd.DataFrame(corr_array, columns=feature_cols, index=feature_cols)\n",
    "\n",
    "# Vẽ heatmap\n",
    "plt.figure(figsize=(10, 8))\n",
    "sns.heatmap(corr_df, annot=True, cmap=\"coolwarm\", fmt=\".2f\", square=True)\n",
    "plt.title(\"Heatmap Ma trận Tương Quan giữa các Đặc trưng\")\n",
    "plt.tight_layout()\n",
    "plt.show()\n"
   ]
  },
  {
   "cell_type": "code",
   "execution_count": 18,
   "id": "6162ed91-f081-4378-b707-8484ded873df",
   "metadata": {},
   "outputs": [
    {
     "name": "stdout",
     "output_type": "stream",
     "text": [
      "+---------+-------------------+-----------+\n",
      "|namespace|tableName          |isTemporary|\n",
      "+---------+-------------------+-----------+\n",
      "|crypto_db|crypto_prices      |false      |\n",
      "|crypto_db|dim_coin           |false      |\n",
      "|crypto_db|dim_date           |false      |\n",
      "|crypto_db|fact_crypto_price  |false      |\n",
      "|crypto_db|predictions_coin_0 |false      |\n",
      "|crypto_db|predictions_coin_1 |false      |\n",
      "|crypto_db|predictions_coin_11|false      |\n",
      "|crypto_db|predictions_coin_12|false      |\n",
      "|crypto_db|predictions_coin_17|false      |\n",
      "|crypto_db|predictions_coin_2 |false      |\n",
      "|crypto_db|predictions_coin_21|false      |\n",
      "|crypto_db|predictions_coin_22|false      |\n",
      "|crypto_db|predictions_coin_23|false      |\n",
      "|crypto_db|predictions_coin_6 |false      |\n",
      "|crypto_db|predictions_coin_9 |false      |\n",
      "+---------+-------------------+-----------+\n",
      "\n"
     ]
    }
   ],
   "source": [
    "\n",
    "spark.sql(\"SHOW TABLES IN crypto_db\").show(truncate=False)\n"
   ]
  },
  {
   "cell_type": "code",
   "execution_count": 110,
   "id": "1ff4970c-045f-44fb-9c35-0c4b795e0b5b",
   "metadata": {},
   "outputs": [
    {
     "name": "stdout",
     "output_type": "stream",
     "text": [
      "+--------+------------------+------------------+------------------+------------------+-----------+--------------------+------------------+------------------+-----+-------+\n",
      "| date_id|              Open|              High|               Low|             Close|     Volume|          pct_change|               ma7|              ma30|label|coin_id|\n",
      "+--------+------------------+------------------+------------------+------------------+-----------+--------------------+------------------+------------------+-----+-------+\n",
      "|20140918| 456.8599853515625| 456.8599853515625|   413.10400390625|424.44000244140625|  3.44832E7|  -7.192557601231182| 440.8870086669922| 440.8870086669922|    0|      1|\n",
      "|20140919| 424.1029968261719| 427.8349914550781| 384.5320129394531| 394.7959899902344|  3.79197E7|   -6.98426450868382|425.52333577473956|425.52333577473956|    0|      1|\n",
      "|20140920| 394.6730041503906| 423.2959899902344|389.88299560546875|408.90399169921875|  3.68636E7|   3.573491642945347| 421.3684997558594| 421.3684997558594|    1|      1|\n",
      "|20140921| 408.0849914550781| 412.4259948730469| 393.1809997558594| 398.8210144042969|  2.65801E7| -2.4658544547392687| 416.8590026855469| 416.8590026855469|    0|      1|\n",
      "|20140922| 399.1000061035156| 406.9159851074219| 397.1300048828125| 402.1520080566406|  2.41276E7|  0.8352101649706506| 414.4078369140625| 414.4078369140625|    1|      1|\n",
      "|20140923| 402.0920104980469| 441.5570068359375| 396.1969909667969| 435.7909851074219|  4.50995E7|   8.364741783421211| 417.4625723702567| 417.4625723702567|    1|      1|\n",
      "|20140924| 435.7510070800781|436.11199951171875| 421.1319885253906| 423.2049865722656|  3.06277E7| -2.8880814347395964|412.58699689592635| 418.1803741455078|    0|      1|\n",
      "|20140925|  423.156005859375| 423.5199890136719| 409.4679870605469| 411.5740051269531|  2.68144E7|  -2.748309167979621| 410.7489972795759|417.44633314344617|    0|      1|\n",
      "|20140926| 411.4289855957031|   414.93798828125| 400.0090026855469|404.42498779296875|  2.14608E7| -1.7369943788794937| 412.1245683942522| 416.1441986083984|    0|      1|\n",
      "|20140927| 403.5559997558594|406.62298583984375|397.37200927734375| 399.5199890136719|  1.50293E7| -1.2128327693262657|410.78399658203125| 414.6329068270597|    0|      1|\n",
      "|20140928|399.47100830078125| 401.0169982910156| 374.3320007324219| 377.1809997558594|  2.36133E7|  -5.591457216687109|407.69256591796875| 411.5119145711263|    0|      1|\n",
      "|20140929| 376.9280090332031|385.21099853515625|  372.239990234375| 375.4670104980469|  3.24977E7|-0.45442089048014767| 403.8804234095982|408.73922964242786|    0|      1|\n",
      "|20140930| 376.0880126953125|390.97698974609375| 373.4429931640625| 386.9440002441406|  3.47073E7|   3.056723873255824|396.90228271484375| 407.1824275425502|    1|      1|\n",
      "|20141001|  387.427001953125| 391.3789978027344| 380.7799987792969|  383.614990234375|  2.62294E7|   -0.86033379705208|391.24656895228793|405.61126505533855|    0|      1|\n",
      "|20141002| 383.9880065917969|385.49700927734375| 372.9460144042969| 375.0719909667969|  2.17777E7| -2.2269722208609886|386.03199550083707| 403.7025604248047|    0|      1|\n",
      "|20141003| 375.1809997558594|377.69500732421875| 357.8590087890625| 359.5119934082031|  3.09012E7|  -4.148536263261309| 379.6158534458705|401.10311530618105|    0|      1|\n",
      "|20141004| 359.8919982910156|364.48699951171875|  325.885986328125| 328.8659973144531|  4.72365E7|  -8.524332054467349|369.52242606026783| 397.0899420844184|    0|      1|\n",
      "|20141005| 328.9159851074219| 341.8009948730469| 289.2959899902344|  320.510009765625|8.3308096E7| -2.5408487399317075| 361.4265703473772| 393.0594193307977|    0|      1|\n",
      "|20141006| 320.3890075683594| 345.1340026855469|302.55999755859375| 330.0790100097656|  7.90118E7|  2.9855542580832397| 354.9425702776228|389.91039886474607|    1|      1|\n",
      "|20141007| 330.5840148925781|339.24700927734375|320.48199462890625|   336.18701171875|  4.91999E7|  1.8504665621736038| 347.6915719168527| 387.3521423339844|    1|      1|\n",
      "+--------+------------------+------------------+------------------+------------------+-----------+--------------------+------------------+------------------+-----+-------+\n",
      "only showing top 20 rows\n",
      "\n"
     ]
    }
   ],
   "source": [
    "spark.sql(\"\"\"\n",
    "    SELECT * \n",
    "    FROM crypto_db.fact_crypto_price\n",
    "\"\"\").show()\n"
   ]
  },
  {
   "cell_type": "code",
   "execution_count": null,
   "id": "b5d940de-0510-4895-8214-62e5fd4260fc",
   "metadata": {},
   "outputs": [],
   "source": []
  }
 ],
 "metadata": {
  "kernelspec": {
   "display_name": "Python 3 (ipykernel)",
   "language": "python",
   "name": "python3"
  },
  "language_info": {
   "codemirror_mode": {
    "name": "ipython",
    "version": 3
   },
   "file_extension": ".py",
   "mimetype": "text/x-python",
   "name": "python",
   "nbconvert_exporter": "python",
   "pygments_lexer": "ipython3",
   "version": "3.10.5"
  }
 },
 "nbformat": 4,
 "nbformat_minor": 5
}
