{
 "cells": [
  {
   "cell_type": "code",
   "execution_count": 20,
   "id": "01737e58-0406-4caf-85c6-c1e44bd5fe60",
   "metadata": {},
   "outputs": [
    {
     "name": "stdout",
     "output_type": "stream",
     "text": [
      "+---------+\n",
      "|namespace|\n",
      "+---------+\n",
      "|  default|\n",
      "+---------+\n",
      "\n",
      "+---------+----------+-----------+\n",
      "|namespace| tableName|isTemporary|\n",
      "+---------+----------+-----------+\n",
      "|  default|test_table|      false|\n",
      "+---------+----------+-----------+\n",
      "\n",
      "+----------------------------+--------------------------------------------------------------+-------+\n",
      "|col_name                    |data_type                                                     |comment|\n",
      "+----------------------------+--------------------------------------------------------------+-------+\n",
      "|id                          |int                                                           |null   |\n",
      "|name                        |string                                                        |null   |\n",
      "|                            |                                                              |       |\n",
      "|# Detailed Table Information|                                                              |       |\n",
      "|Database                    |default                                                       |       |\n",
      "|Table                       |test_table                                                    |       |\n",
      "|Owner                       |jovyan                                                        |       |\n",
      "|Created Time                |Thu Apr 03 08:56:13 UTC 2025                                  |       |\n",
      "|Last Access                 |UNKNOWN                                                       |       |\n",
      "|Created By                  |Spark 3.2.1                                                   |       |\n",
      "|Type                        |MANAGED                                                       |       |\n",
      "|Provider                    |hive                                                          |       |\n",
      "|Table Properties            |[transient_lastDdlTime=1743670573]                            |       |\n",
      "|Location                    |hdfs://namenode:9000/user/hive/warehouse/test_table           |       |\n",
      "|Serde Library               |org.apache.hadoop.hive.ql.io.parquet.serde.ParquetHiveSerDe   |       |\n",
      "|InputFormat                 |org.apache.hadoop.hive.ql.io.parquet.MapredParquetInputFormat |       |\n",
      "|OutputFormat                |org.apache.hadoop.hive.ql.io.parquet.MapredParquetOutputFormat|       |\n",
      "|Storage Properties          |[serialization.format=1]                                      |       |\n",
      "|Partition Provider          |Catalog                                                       |       |\n",
      "+----------------------------+--------------------------------------------------------------+-------+\n",
      "\n"
     ]
    }
   ],
   "source": [
    "from pyspark.sql import SparkSession\n",
    "\n",
    "spark = SparkSession.builder \\\n",
    "    .appName(\"Hadoop_Spark_Hive_Integration\") \\\n",
    "    .config(\"spark.sql.catalogImplementation\", \"hive\") \\\n",
    "    .config(\"spark.hadoop.fs.defaultFS\", \"hdfs://namenode:9000\") \\\n",
    "    .config(\"spark.sql.warehouse.dir\", \"hdfs://namenode:9000/user/hive/warehouse\") \\\n",
    "    .config(\"hive.metastore.uris\", \"thrift://hive-metastore:9083\") \\\n",
    "    .enableHiveSupport() \\\n",
    "    .getOrCreate()\n",
    "\n",
    "# Check databases\n",
    "spark.sql(\"SHOW DATABASES\").show()\n",
    "spark.sql(\"SHOW TABLES\").show()\n",
    "spark.sql(\"DESCRIBE FORMATTED test_table\").show(truncate=False)\n"
   ]
  },
  {
   "cell_type": "code",
   "execution_count": 17,
   "id": "0a5dcdd6-4fd7-4039-927c-aba5685d9927",
   "metadata": {},
   "outputs": [
    {
     "name": "stdout",
     "output_type": "stream",
     "text": [
      "Available Databases:\n",
      "+---------+\n",
      "|namespace|\n",
      "+---------+\n",
      "|  default|\n",
      "+---------+\n",
      "\n"
     ]
    }
   ],
   "source": [
    "# Check if Hive is accessible\n",
    "print(\"Available Databases:\")\n",
    "spark.sql(\"SHOW DATABASES\").show()"
   ]
  },
  {
   "cell_type": "code",
   "execution_count": 18,
   "id": "affa6f2d-c732-4128-9132-84468f940398",
   "metadata": {},
   "outputs": [
    {
     "data": {
      "text/plain": [
       "DataFrame[]"
      ]
     },
     "execution_count": 18,
     "metadata": {},
     "output_type": "execute_result"
    }
   ],
   "source": [
    "# Use the default database\n",
    "spark.sql(\"USE default\")"
   ]
  },
  {
   "cell_type": "code",
   "execution_count": 10,
   "id": "b9b3c218-5594-4533-bd95-c6a1fa53c170",
   "metadata": {},
   "outputs": [
    {
     "data": {
      "text/plain": [
       "DataFrame[]"
      ]
     },
     "execution_count": 10,
     "metadata": {},
     "output_type": "execute_result"
    }
   ],
   "source": [
    "# Create a test table\n",
    "spark.sql(\"\"\"\n",
    "    CREATE TABLE IF NOT EXISTS test_table (\n",
    "        id INT,\n",
    "        name STRING\n",
    "    )\n",
    "    STORED AS PARQUET\n",
    "\"\"\")"
   ]
  },
  {
   "cell_type": "code",
   "execution_count": 11,
   "id": "2049c3da-480b-4e89-84cd-f090cab3bd0d",
   "metadata": {},
   "outputs": [
    {
     "data": {
      "text/plain": [
       "DataFrame[]"
      ]
     },
     "execution_count": 11,
     "metadata": {},
     "output_type": "execute_result"
    }
   ],
   "source": [
    "# Insert test data\n",
    "spark.sql(\"INSERT INTO test_table VALUES (1, 'Alice'), (2, 'Bob'), (3, 'Charlie')\")"
   ]
  },
  {
   "cell_type": "code",
   "execution_count": 12,
   "id": "2bad22ba-b2e0-4b0f-8bfa-9968ea2c0bfb",
   "metadata": {},
   "outputs": [
    {
     "name": "stdout",
     "output_type": "stream",
     "text": [
      "Available Tables:\n",
      "+---------+----------+-----------+\n",
      "|namespace| tableName|isTemporary|\n",
      "+---------+----------+-----------+\n",
      "|  default|test_table|      false|\n",
      "+---------+----------+-----------+\n",
      "\n"
     ]
    }
   ],
   "source": [
    "# Show tables to verify table creation\n",
    "print(\"Available Tables:\")\n",
    "spark.sql(\"SHOW TABLES\").show()"
   ]
  },
  {
   "cell_type": "code",
   "execution_count": 13,
   "id": "2fb0acde-bfae-463c-82de-6d05452e6366",
   "metadata": {},
   "outputs": [
    {
     "name": "stdout",
     "output_type": "stream",
     "text": [
      "Table Data:\n",
      "+---+-------+\n",
      "| id|   name|\n",
      "+---+-------+\n",
      "|  3|Charlie|\n",
      "|  1|  Alice|\n",
      "|  2|    Bob|\n",
      "+---+-------+\n",
      "\n"
     ]
    }
   ],
   "source": [
    "# Query the table\n",
    "print(\"Table Data:\")\n",
    "spark.sql(\"SELECT * FROM test_table\").show()"
   ]
  },
  {
   "cell_type": "code",
   "execution_count": 15,
   "id": "1ecff655-bccb-4878-8ccd-1e3b61d5c7cb",
   "metadata": {},
   "outputs": [
    {
     "data": {
      "text/plain": [
       "'thrift://hive-metastore:9083'"
      ]
     },
     "execution_count": 15,
     "metadata": {},
     "output_type": "execute_result"
    }
   ],
   "source": [
    "spark.conf.get(\"hive.metastore.uris\")\n"
   ]
  },
  {
   "cell_type": "code",
   "execution_count": null,
   "id": "271f3686-df08-4252-a47e-af9f56f89a7b",
   "metadata": {},
   "outputs": [],
   "source": []
  }
 ],
 "metadata": {
  "kernelspec": {
   "display_name": "Python 3 (ipykernel)",
   "language": "python",
   "name": "python3"
  },
  "language_info": {
   "codemirror_mode": {
    "name": "ipython",
    "version": 3
   },
   "file_extension": ".py",
   "mimetype": "text/x-python",
   "name": "python",
   "nbconvert_exporter": "python",
   "pygments_lexer": "ipython3",
   "version": "3.10.5"
  }
 },
 "nbformat": 4,
 "nbformat_minor": 5
}
